{
 "cells": [
  {
   "cell_type": "markdown",
   "id": "3ca9429b-9fad-406e-b54a-10af0223bbb1",
   "metadata": {},
   "source": [
    "#                                             Python OOPs Questions"
   ]
  },
  {
   "cell_type": "markdown",
   "id": "1cf78f5a-4f1b-4ad6-8941-3120227e0ded",
   "metadata": {},
   "source": [
    "# 1.What is Object-Oriented Programming (OOP)?"
   ]
  },
  {
   "cell_type": "markdown",
   "id": "e03652ed-c821-4614-abc8-b54d2e87ff5f",
   "metadata": {},
   "source": [
    "# Ans-\n",
    "Object-Oriented Programming (OOP) ek programming paradigm hai jo objects par based hota hai. Yeh objects real-world entities ko represent karte hain, jaise ki car, dog, employee, etc., jinke apne attributes (data/properties) aur methods (functions/behavior) hote hain. OOP ka main focus reusability, modularity, and maintainability par hota hai."
   ]
  },
  {
   "cell_type": "markdown",
   "id": "790a6164-2b02-4204-a5ca-abfcf84c9bba",
   "metadata": {},
   "source": [
    "# 2. What is a class in OOP?"
   ]
  },
  {
   "cell_type": "markdown",
   "id": "fb779953-0680-4afb-982c-1ca3db418c60",
   "metadata": {},
   "source": [
    "# Ans-\n",
    "Object-Oriented Programming (OOP), a Class is a blueprint or template for creating objects. It defines a set of attributes (data/properties) and methods (functions/behaviors) that the objects created from it will have.\n",
    "\n",
    "Think of a Class like a blueprint of a house — it describes the structure and features (like rooms, doors, etc.), but it's not an actual house until you build one (which is an Object)."
   ]
  },
  {
   "cell_type": "markdown",
   "id": "5f983376-4a48-425a-b282-ef99e3c42b57",
   "metadata": {},
   "source": [
    "# 3.  What is an object in OOP?"
   ]
  },
  {
   "cell_type": "markdown",
   "id": "d1b83d3a-2602-424f-872d-6311752ba597",
   "metadata": {},
   "source": [
    "# Ans-\n",
    "In Object-Oriented Programming (OOP), an Object is an instance of a class. It represents a real-world entity with attributes (data/properties) and methods (functions/behaviors) defined by its class.\n",
    "If a Class is a blueprint, then an Object is the actual building created from that blueprint."
   ]
  },
  {
   "cell_type": "markdown",
   "id": "a592bc38-cd21-4cbd-bc72-a20078ad1aa5",
   "metadata": {},
   "source": [
    "# 4. What is the difference between abstraction and encapsulation?"
   ]
  },
  {
   "cell_type": "markdown",
   "id": "208ce4fb-a8e6-493e-817d-c9913b174214",
   "metadata": {},
   "source": [
    "# Ans-\n",
    "Abstraction and Encapsulation are two fundamental concepts in Object-Oriented Programming (OOP), but they serve different purposes. Let’s break them down.\n",
    "* Abstraction:\n",
    "Abstraction is about hiding complexity and showing only the essential details. It focuses on what an object does rather than how it does it.\n",
    "* Encapsulation:\n",
    "Encapsulation is about bundling data (attributes) and methods (functions) into a single unit (class) and restricting direct access to some of the object's components. This provides data protection and controlled access."
   ]
  },
  {
   "cell_type": "markdown",
   "id": "51993fa9-5e04-4c80-a4d0-5ffbdcf2aade",
   "metadata": {},
   "source": [
    "# 5.  What are dunder methods in Python?"
   ]
  },
  {
   "cell_type": "markdown",
   "id": "0694fd9e-20f2-4920-8dbf-dafb718bf792",
   "metadata": {},
   "source": [
    "# Ans-\n",
    "Dunder Methods (short for Double UNDERscore Methods) are special methods in Python that have double underscores (__) at the beginning and end of their names. They are also known as Magic Methods because they enable built-in behaviors and functionalities of Python objects."
   ]
  },
  {
   "cell_type": "markdown",
   "id": "5fdd2ed8-d624-43a7-aa41-4d26db5fdef7",
   "metadata": {},
   "source": [
    "# 6. Explain the concept of inheritance in OOP?\r"
   ]
  },
  {
   "cell_type": "markdown",
   "id": "61d62f3f-cb7f-4186-bc0e-502530fbd6c1",
   "metadata": {},
   "source": [
    "# Ans-\n",
    "Inheritance is an Object-Oriented Programming (OOP) concept where one class (child class or subclass) inherits the properties and behaviors (attributes and methods) of another class (parent class or superclass). This helps in code reusability and creating a hierarchy of classes."
   ]
  },
  {
   "cell_type": "markdown",
   "id": "5f22a346-c272-49f1-a7db-c4f85362a112",
   "metadata": {},
   "source": [
    "# 7. What is polymorphism in OOP?\n"
   ]
  },
  {
   "cell_type": "markdown",
   "id": "1d45ee88-71ed-4bd2-8953-29aa44368521",
   "metadata": {},
   "source": [
    "# Ans-\n",
    "Polymorphism means “many forms”. In Object-Oriented Programming (OOP), it refers to the ability of objects of different classes to be treated as objects of a common parent class. The most common use of polymorphism is when a parent class reference is used to refer to a child class object."
   ]
  },
  {
   "cell_type": "markdown",
   "id": "237cccfd-804f-4603-b2f0-17fa994dd094",
   "metadata": {},
   "source": [
    "# 8. How is encapsulation achieved in Python?"
   ]
  },
  {
   "cell_type": "markdown",
   "id": "bc70704d-b23b-4f94-a930-384b773280e9",
   "metadata": {},
   "source": [
    "# Ans-\n",
    "Encapsulation in Python is achieved by restricting direct access to an object’s data and methods. Instead, access is provided through public methods (getters and setters). This helps in protecting data from accidental modification.\n"
   ]
  },
  {
   "cell_type": "markdown",
   "id": "8c58255a-1c8c-445c-8162-0163c7a38a49",
   "metadata": {},
   "source": [
    "# 9. What is a constructor in Python ?"
   ]
  },
  {
   "cell_type": "markdown",
   "id": "dc0f10f9-58e3-450a-aeb1-28f068991786",
   "metadata": {},
   "source": [
    "# Ans-\n",
    "A Constructor in Python is a special method used to initialize the attributes (properties) of an object when it is created. It is automatically called when an object of a class is instantiated.\n",
    "In Python, the constructor method is called __init__()."
   ]
  },
  {
   "cell_type": "markdown",
   "id": "90320340-0d0b-424c-87ac-1e41cbb05cca",
   "metadata": {},
   "source": [
    "# 10. What are class and static methods in Python?"
   ]
  },
  {
   "cell_type": "markdown",
   "id": "c139adeb-40a7-404b-9e88-df235641c9b6",
   "metadata": {},
   "source": [
    "# Ans-\n",
    "In Python, Class Methods and Static Methods are two types of methods that are not directly related to individual objects but to the class itself.\n",
    "* Class Method (@classmethod)\n",
    "A Class Method is a method that is bound to the class and not the instance of the class. It can modify a class state that applies across all instances of the class.\n",
    "* Static Method (@staticmethod)\n",
    "A Static Method is a method that doesn't access or modify class state or instance state. It is just a regular function defined within a class for organizational purposes."
   ]
  },
  {
   "cell_type": "markdown",
   "id": "0f66718e-2ce2-46a5-ae46-e85538c5e910",
   "metadata": {},
   "source": [
    "# 11. What is method overloading in Python?"
   ]
  },
  {
   "cell_type": "markdown",
   "id": "df834727-4b2d-41d0-86c4-46b3f8fbc54d",
   "metadata": {},
   "source": [
    "# Ans-\n",
    "Method Overloading is a concept where two or more methods in the same class have the same name but different parameters (different signatures).\n",
    "However, Python doesn’t support true method overloading like other languages (e.g., Java, C++). Instead, Python uses default arguments and *args / **kwargs to achieve similar functionality."
   ]
  },
  {
   "cell_type": "markdown",
   "id": "9fa55477-90f8-4d96-a2d2-0104b633a657",
   "metadata": {},
   "source": [
    "# 12. What is method overriding in OOP?"
   ]
  },
  {
   "cell_type": "markdown",
   "id": "47038f36-94a0-449f-bc92-c3901116bf92",
   "metadata": {},
   "source": [
    "# Ans-\n",
    "Method Overriding is a concept in Object-Oriented Programming (OOP) where a child class provides a specific implementation of a method that is already defined in its parent class. The child class method overrides the parent class method with the same name, parameters, and return type"
   ]
  },
  {
   "cell_type": "markdown",
   "id": "a77fc3b9-e0f8-4d8f-9b7a-ebf5e7bd6368",
   "metadata": {},
   "source": [
    "# 13. What is a property decorator in Python ?"
   ]
  },
  {
   "cell_type": "markdown",
   "id": "9daa2e35-df53-47f5-8746-8e7573f924d0",
   "metadata": {},
   "source": [
    "# Ans-\n",
    "The @property decorator in Python is a built-in decorator used to define getter methods for class attributes in a clean and Pythonic way. It allows you to access methods like attributes without explicitly calling them as functions."
   ]
  },
  {
   "cell_type": "markdown",
   "id": "df2141b6-f73e-4ab7-9f8a-6133fffc5fff",
   "metadata": {},
   "source": [
    "# 14. Why is polymorphism important in OOP? "
   ]
  },
  {
   "cell_type": "markdown",
   "id": "9ee8e6ee-ef30-43da-83ba-03e84eec9960",
   "metadata": {},
   "source": [
    "# Ans-\n",
    "Polymorphism is one of the core principles of Object-Oriented Programming (OOP), along with Inheritance, Encapsulation, and Abstraction. It allows objects of different classes to be treated as objects of a common parent class, enabling code flexibility, reusability, and scalability.\n"
   ]
  },
  {
   "cell_type": "markdown",
   "id": "aabf13c8-bbe4-4c49-8ed8-962f4c8c79ff",
   "metadata": {},
   "source": [
    "# 15.  What is an abstract class in Python?"
   ]
  },
  {
   "cell_type": "markdown",
   "id": "2b7ba4c1-2e1f-4659-87fb-c7975fc4e2f7",
   "metadata": {},
   "source": [
    "# Ans-\n",
    "An abstract class in Python is a blueprint for other classes. It cannot be instantiated directly and is meant to be inherited by subclasses that implement the abstract methods defined in the abstract class.\n",
    "Abstract classes are used to enforce a certain structure on subclasses and ensure that derived classes implement particular methods."
   ]
  },
  {
   "cell_type": "markdown",
   "id": "249d0c7c-26ca-4e2e-ac50-1d573a5eee85",
   "metadata": {},
   "source": [
    "# 16. What are the advantages of OOP?"
   ]
  },
  {
   "cell_type": "markdown",
   "id": "d1353334-2cad-40aa-8c06-a85497948c76",
   "metadata": {},
   "source": [
    "# Ans-\n",
    "Object-Oriented Programming (OOP) offers several advantages that make it a powerful programming paradigm, especially for building complex, scalable, and maintainable software systems. Here are the key benefits:\n",
    "* Modularity (Code Organization):\n",
    "* Code Reusability\n",
    "* Data Hiding (Encapsulation)\n",
    "* Polymorphism (Flexibility & Extensibility)\n",
    "* Code Maintainability\n",
    "* Scalability\n",
    "* Abstraction (Simplicity)\n",
    "* Improved Testing and Debugging\n",
    "* Real-World Mapping\n",
    "* educed Code Complexity"
   ]
  },
  {
   "cell_type": "markdown",
   "id": "3437e255-d678-4736-99f2-9bcf3c656e52",
   "metadata": {},
   "source": [
    "# 17.  What is the difference between a class variable and an instance variable?"
   ]
  },
  {
   "cell_type": "markdown",
   "id": "8448e1cf-86d9-49d6-b942-7d3ea1a71807",
   "metadata": {},
   "source": [
    "# Ans-\n",
    "In Python OOP, class variables and instance variables are both attributes defined inside a class, but they have different scopes and behaviors.\n",
    "* Class Variable:\n",
    "A class variable is a variable that is shared by all instances of a class.\n",
    "It is declared within the class but outside any method.\n",
    "Changes made to a class variable affect all instances of the class unless specifically overridden in an instance.\n",
    "* Instance Variable:\n",
    "An instance variable is a variable that is unique to each instance of a class.\n",
    "It is defined within the __init__() method or any other instance method.\n",
    "Changes to an instance variable do not affect other instances."
   ]
  },
  {
   "cell_type": "markdown",
   "id": "d3b91f20-4249-44c6-9ad2-3fcdb7906d20",
   "metadata": {},
   "source": [
    "# 18. What is multiple inheritance in Python?"
   ]
  },
  {
   "cell_type": "markdown",
   "id": "1de298ac-f43c-4fe8-866d-0bf0cb4ab507",
   "metadata": {},
   "source": [
    "# Ans-\n",
    "Multiple inheritance is a feature in Python where a class can inherit from more than one parent class. This allows a child class to have the combined attributes and methods of all parent classes."
   ]
  },
  {
   "cell_type": "markdown",
   "id": "a37f2a86-fa47-4354-9a2d-2239a9c0cc4f",
   "metadata": {},
   "source": [
    "# 19.  Explain the purpose of ‘’__str__’ and ‘__repr__’ ‘ methods in Python?"
   ]
  },
  {
   "cell_type": "markdown",
   "id": "019b86c6-8ab2-4ad8-a816-876906ae56cc",
   "metadata": {},
   "source": [
    "# Ans-\n",
    "Purpose of __str__() and __repr__() Methods in Python\n",
    "In Python, __str__() and __repr__() are special (dunder) methods used to provide string representations of objects. They are very useful for debugging, logging, and user-friendly representation of objects.\n",
    "*__repr__() Method (Developer-Friendly Representation)\n",
    "The purpose of __repr__() is to provide a string representation of an object that is unambiguous and useful for debugging.\n",
    "It is meant to produce a string that, if passed to eval(), should ideally recreate the object (though not always practical).\n",
    "Called when you use repr() or when printing an object in the interactive console.\n",
    "* __str__() Method (User-Friendly Representation)\n",
    "The purpose of __str__() is to provide a string representation of an object that is readable and user-friendly.\n",
    "Called when you use str() or print() on an object.\n",
    "Should return a well-formatted, easy-to-read string for end users."
   ]
  },
  {
   "cell_type": "markdown",
   "id": "0eef4142-d419-496e-8997-be50fe2ca786",
   "metadata": {},
   "source": [
    "# 20. What is the significance of the ‘super()’ function in Python?"
   ]
  },
  {
   "cell_type": "markdown",
   "id": "c4499818-dc64-407a-a292-cf0e863e9801",
   "metadata": {},
   "source": [
    "# Ans-\n",
    "The super() function in Python is used to call methods from a parent or superclass. It provides a way to access inherited methods or attributes from a parent class without directly referencing the parent class name. This is especially useful in single inheritance, multiple inheritance, and method overriding."
   ]
  },
  {
   "cell_type": "markdown",
   "id": "6ab537fa-8235-4c03-bae3-d424de89d4fd",
   "metadata": {},
   "source": [
    "# 21. What is the significance of the __del__ method in Python?"
   ]
  },
  {
   "cell_type": "markdown",
   "id": "bb082ae3-d4bf-447f-991c-caa6381589c5",
   "metadata": {},
   "source": [
    "# Ans-\n",
    "The __del__() method is a special (dunder) method in Python known as a destructor. It is called when an object is about to be destroyed or when it goes out of scope and its reference count drops to zero.\n",
    "* Purpose of __del__() Method:\n",
    "To perform cleanup actions when an object is deleted.\n",
    "To release external resources like files, network connections, or database connections.\n",
    "To perform logging or debugging operations when objects are destroye"
   ]
  },
  {
   "cell_type": "markdown",
   "id": "58f371f8-7108-4146-92fe-f97cd8474047",
   "metadata": {},
   "source": [
    "# 22.  What is the difference between @staticmethod and @classmethod in Python ?"
   ]
  },
  {
   "cell_type": "markdown",
   "id": "a181351b-9268-4976-b49e-ac48defed359",
   "metadata": {},
   "source": [
    "# Ans-\n",
    "In Python, @staticmethod and @classmethod are decorators used to define methods that are not instance methods. They both belong to the class rather than the instance but have different use cases and behaviors.\n",
    "* @staticmethod\n",
    "A @staticmethod is a method that does not access or modify class state or instance state. It behaves like a regular function, but it belongs to the class's namespace.\n",
    "* @classmethod\n",
    "A @classmethod is a method that operates on the class itself rather than instances of the class. It receives a cls argument which refers to the class (not the instance)"
   ]
  },
  {
   "cell_type": "markdown",
   "id": "14f6c497-2e1e-445a-9b64-c4d07dee2b5e",
   "metadata": {},
   "source": [
    "# 23. How does polymorphism work in Python with inheritance?"
   ]
  },
  {
   "cell_type": "markdown",
   "id": "c10e3700-19d2-4e1b-beb0-1071385e208d",
   "metadata": {},
   "source": [
    "# Ans-\n",
    "Polymorphism in Python refers to the ability of different classes to be treated as instances of the same class through a common interface. In simpler terms, the same method name can be used in different classes with different implementations.\n",
    "How It Works with Inheritance:\n",
    "In Python, polymorphism is achieved through method overriding and interfaces. When a subclass inherits from a parent class, it can override or modify the behavior of methods defined in the parent class."
   ]
  },
  {
   "cell_type": "markdown",
   "id": "d9e15980-164b-4f95-aab9-c6b3f9f95ec2",
   "metadata": {},
   "source": [
    "# 24. What is method chaining in Python OOP?"
   ]
  },
  {
   "cell_type": "markdown",
   "id": "ed7d3eb9-ec93-482b-80c7-09e88c9420f3",
   "metadata": {},
   "source": [
    "# Ans-\n",
    "Method Chaining is a technique in Python OOP where multiple methods are called on the same object in a single line of code. It enhances code readability and allows for fluent interface design."
   ]
  },
  {
   "cell_type": "markdown",
   "id": "0d170e0f-791a-4bfe-910c-8bc83972d361",
   "metadata": {},
   "source": [
    "# 25.What is the purpose of the __call__ method in Python?"
   ]
  },
  {
   "cell_type": "markdown",
   "id": "e4162f85-d2ef-4d8f-b4a2-bafa008172bd",
   "metadata": {},
   "source": [
    "# Ans-\n",
    "The __call__() method in Python allows an instance of a class to be called like a regular function. When an object with a __call__() method is used with parentheses (), the __call__() method is executed.\n",
    "* Why Use __call__()?\n",
    "1.Making Objects Callable: Allows objects to behave like functions.\n",
    "2.Creating Function-like Interfaces: Useful for building classes that need to act as functions.\n",
    "3.Stateful Functions: Maintaining state across multiple function calls.\n",
    "4.Cleaner Syntax: Makes code more readable by hiding complex logic within an object.\n"
   ]
  },
  {
   "cell_type": "markdown",
   "id": "6bc57c2f-9506-42cd-807e-44ad66dd9fed",
   "metadata": {},
   "source": [
    "# Practical Questions"
   ]
  },
  {
   "cell_type": "markdown",
   "id": "6b1d154e-8cf3-4a50-acdb-af24482b1fef",
   "metadata": {},
   "source": [
    "# 1.  Create a parent class Animal with a method speak() that prints a generic message. Create a child class Dogthat overrides the speak() method to print \"Bark!\r",
    "!"
   ]
  },
  {
   "cell_type": "code",
   "execution_count": 1,
   "id": "cb4c52a9-bbf6-4783-ac88-acc34ff15dab",
   "metadata": {},
   "outputs": [
    {
     "name": "stdout",
     "output_type": "stream",
     "text": [
      "The animal makes a sound.\n",
      "Bark!\n"
     ]
    }
   ],
   "source": [
    "# Ans- \n",
    "# Parent class\n",
    "class Animal:\n",
    "    def speak(self):  # Parent class method\n",
    "        print(\"The animal makes a sound.\")\n",
    "\n",
    "# Child class\n",
    "class Dog(Animal):\n",
    "    def speak(self):  \n",
    "        print(\"Bark!\")\n",
    "\n",
    "generic_animal = Animal()\n",
    "dog = Dog()\n",
    "\n",
    "generic_animal.speak()  \n",
    "dog.speak()             \n"
   ]
  },
  {
   "cell_type": "markdown",
   "id": "1f09df8b-4227-4382-8765-8f9f91eecd1e",
   "metadata": {},
   "source": [
    "# 2. Write a program to create an abstract class Shape with a method area(). Derive classes Circle and Rectangle from it and implement the area() method in both.\n",
    "\n",
    "\n",
    "\n"
   ]
  },
  {
   "cell_type": "code",
   "execution_count": 2,
   "id": "f8ed2277-12cd-47a0-96b6-4b95968b119f",
   "metadata": {},
   "outputs": [
    {
     "name": "stdout",
     "output_type": "stream",
     "text": [
      "Area of Circle: 78.54\n",
      "Area of Rectangle: 24\n"
     ]
    }
   ],
   "source": [
    "# Ans-\n",
    "from abc import ABC, abstractmethod\n",
    "import math\n",
    "\n",
    "# Abstract class\n",
    "class Shape(ABC):\n",
    "    \n",
    "    @abstractmethod\n",
    "    def area(self): \n",
    "        pass\n",
    "\n",
    "\n",
    "# Circle class inheriting Shape\n",
    "class Circle(Shape):\n",
    "    def __init__(self, radius):\n",
    "        self.radius = radius\n",
    "\n",
    "    def area(self):  \n",
    "        return math.pi * self.radius ** 2\n",
    "\n",
    "\n",
    "# Rectangle class inheriting Shape\n",
    "class Rectangle(Shape):\n",
    "    def __init__(self, width, height):\n",
    "        self.width = width\n",
    "        self.height = height\n",
    "\n",
    "    def area(self):  \n",
    "        return self.width * self.height\n",
    "\n",
    "\n",
    "# Creating objects of Circle and Rectangle\n",
    "circle = Circle(5)\n",
    "rectangle = Rectangle(4, 6)\n",
    "\n",
    "# Displaying the area of each shape\n",
    "print(f\"Area of Circle: {circle.area():.2f}\")    \n",
    "print(f\"Area of Rectangle: {rectangle.area()}\")    \n"
   ]
  },
  {
   "cell_type": "markdown",
   "id": "06d06bfd-9f44-41cf-b1e9-0ae2650653a7",
   "metadata": {},
   "source": [
    "# 3.  Implement a multi-level inheritance scenario where a class Vehicle has an attribute type. Derive a class Car and further derive a class ElectricCar that adds a battery attribute.\r",
    "e"
   ]
  },
  {
   "cell_type": "code",
   "execution_count": 3,
   "id": "68847a63-1874-49b2-b384-33c07ee78d93",
   "metadata": {},
   "outputs": [
    {
     "name": "stdout",
     "output_type": "stream",
     "text": [
      "Vehicle Type: Car\n",
      "Brand: Tesla\n",
      "Battery Capacity: 100 kWh\n"
     ]
    }
   ],
   "source": [
    "# Ans-\n",
    "# Base class\n",
    "class Vehicle:\n",
    "    def __init__(self, vehicle_type):\n",
    "        self.vehicle_type = vehicle_type\n",
    "\n",
    "    def display_type(self):\n",
    "        print(f\"Vehicle Type: {self.vehicle_type}\")\n",
    "\n",
    "# Derived class\n",
    "class Car(Vehicle):\n",
    "    def __init__(self, vehicle_type, brand):\n",
    "        super().__init__(vehicle_type) \n",
    "        self.brand = brand\n",
    "\n",
    "    def display_info(self):\n",
    "        print(f\"Brand: {self.brand}\")\n",
    "\n",
    "# Further derived class\n",
    "class ElectricCar(Car):\n",
    "    def __init__(self, vehicle_type, brand, battery_capacity):\n",
    "        super().__init__(vehicle_type, brand) \n",
    "        self.battery_capacity = battery_capacity\n",
    "\n",
    "    def display_details(self):\n",
    "        self.display_type()  \n",
    "        self.display_info()  \n",
    "        print(f\"Battery Capacity: {self.battery_capacity} kWh\")\n",
    "\n",
    "\n",
    "# Creating an object of ElectricCar\n",
    "tesla = ElectricCar(\"Car\", \"Tesla\", 100)\n",
    "\n",
    "# Displaying details of the electric car\n",
    "tesla.display_details()\n"
   ]
  },
  {
   "cell_type": "markdown",
   "id": "58784218-fe9a-4d1a-8416-0d1d9e56a9ac",
   "metadata": {},
   "source": [
    "# 4. Demonstrate polymorphism by creating a base class Bird with a method fly(). Create two derived classes Sparrow and Penguin that override the fly() method.\r",
    ".\r",
    ".\r"
   ]
  },
  {
   "cell_type": "code",
   "execution_count": 4,
   "id": "f6fc5724-583f-4814-a35d-42601843c6d8",
   "metadata": {},
   "outputs": [
    {
     "name": "stdout",
     "output_type": "stream",
     "text": [
      "Birds can fly in the sky.\n",
      "Sparrow flies swiftly.\n",
      "Penguins cannot fly, but they can swim.\n"
     ]
    }
   ],
   "source": [
    "# Ans-\n",
    "# Base class\n",
    "class Bird:\n",
    "    def fly(self):\n",
    "        print(\"Birds can fly in the sky.\")\n",
    "\n",
    "# Derived class 1\n",
    "class Sparrow(Bird):\n",
    "    def fly(self): \n",
    "        print(\"Sparrow flies swiftly.\")\n",
    "\n",
    "# Derived class 2\n",
    "class Penguin(Bird):\n",
    "    def fly(self):  \n",
    "        print(\"Penguins cannot fly, but they can swim.\")\n",
    "\n",
    "# Function demonstrating polymorphism\n",
    "def show_flying_ability(bird):\n",
    "    bird.fly()  \n",
    "\n",
    "# Creating objects of each class\n",
    "bird = Bird()\n",
    "sparrow = Sparrow()\n",
    "penguin = Penguin()\n",
    "\n",
    "# Demonstrating polymorphism\n",
    "show_flying_ability(bird)     \n",
    "show_flying_ability(sparrow)    \n",
    "show_flying_ability(penguin)    \n"
   ]
  },
  {
   "cell_type": "markdown",
   "id": "7da57aea-8e22-471d-998d-d088bc613a21",
   "metadata": {},
   "source": [
    "# 5. Write a program to demonstrate encapsulation by creating a class BankAccount with private attributes balance and methods to deposit, withdraw, and check balance.\r",
    ".\r\n",
    "\r\n",
    "\r"
   ]
  },
  {
   "cell_type": "code",
   "execution_count": 5,
   "id": "0fed5653-a744-4683-ad7e-f9e9c7582730",
   "metadata": {},
   "outputs": [
    {
     "name": "stdout",
     "output_type": "stream",
     "text": [
      "Deposited: $500\n",
      "Withdrawn: $300\n",
      "Current Balance: $1200\n"
     ]
    }
   ],
   "source": [
    "# Ans-\n",
    "class BankAccount:\n",
    "    def __init__(self, account_holder, initial_balance=0):\n",
    "        self.account_holder = account_holder  \n",
    "        self.__balance = initial_balance      \n",
    "\n",
    "    # Public method to deposit money\n",
    "    def deposit(self, amount):\n",
    "        if amount > 0:\n",
    "            self.__balance += amount\n",
    "            print(f\"Deposited: ${amount}\")\n",
    "        else:\n",
    "            print(\"Deposit amount must be positive.\")\n",
    "\n",
    "    # Public method to withdraw money\n",
    "    def withdraw(self, amount):\n",
    "        if amount > 0:\n",
    "            if amount <= self.__balance:\n",
    "                self.__balance -= amount\n",
    "                print(f\"Withdrawn: ${amount}\")\n",
    "            else:\n",
    "                print(\"Insufficient balance.\")\n",
    "        else:\n",
    "            print(\"Withdrawal amount must be positive.\")\n",
    "\n",
    "    # Public method to check balance\n",
    "    def check_balance(self):\n",
    "        return f\"Current Balance: ${self.__balance}\"\n",
    "\n",
    "\n",
    "# Creating a BankAccount object\n",
    "my_account = BankAccount(\"Alice\", 1000)\n",
    "\n",
    "# Accessing public methods\n",
    "my_account.deposit(500)             \n",
    "my_account.withdraw(300)             \n",
    "print(my_account.check_balance())   \n",
    "\n",
    "\n"
   ]
  },
  {
   "cell_type": "markdown",
   "id": "cf176ef5-56c7-4c21-9bdf-20fb57542dc5",
   "metadata": {},
   "source": [
    "# 6.  Demonstrate runtime polymorphism using a method play() in a base class Instrument. Derive classes Guitar and Piano that implement their own version of play().\n"
   ]
  },
  {
   "cell_type": "markdown",
   "id": "98a4de10-06b5-4e75-8fcb-f6d514fdc4d1",
   "metadata": {},
   "source": [
    "# Ans-\n",
    "# Base class\n",
    "class Instrument:\n",
    "    def play(self):  \n",
    "        print(\"Playing an instrument.\")\n",
    "\n",
    "# Derived class 1\n",
    "class Guitar(Instrument):\n",
    "    def play(self):  \n",
    "        print(\"Playing the Guitar: Strum, Strum!\")\n",
    "\n",
    "# Derived class 2\n",
    "class Piano(Instrument):\n",
    "    def play(self):  \n",
    "        print(\"Playing the Piano: Ting, Ting!\")\n",
    "\n",
    "# Function demonstrating runtime polymorphism\n",
    "def start_playing(instrument):\n",
    "    instrument.play()  \n",
    "\n",
    "# Creating objects of derived classes\n",
    "guitar = Guitar()\n",
    "piano = Piano()\n",
    "\n",
    "# Demonstrating runtime polymorphism\n",
    "start_playing(guitar)  \n",
    "start_playing(piano)     \n"
   ]
  },
  {
   "cell_type": "markdown",
   "id": "0182c870-0bec-4050-a155-38ccaced144c",
   "metadata": {},
   "source": [
    "#  Create a class MathOperations with a class method add_numbers() to add two numbers and a static method subtract_numbers() to subtract two numbers7. \r",
    " "
   ]
  },
  {
   "cell_type": "code",
   "execution_count": 7,
   "id": "7b3fb423-ff36-4390-a4be-0ee8c7d1fac1",
   "metadata": {},
   "outputs": [
    {
     "name": "stdout",
     "output_type": "stream",
     "text": [
      "Addition Result: 15\n",
      "Subtraction Result: 5\n"
     ]
    }
   ],
   "source": [
    "# Ans-\n",
    "class MathOperations:\n",
    "    \n",
    "    # Class method for addition\n",
    "    @classmethod\n",
    "    def add_numbers(cls, num1, num2):\n",
    "        return num1 + num2\n",
    "\n",
    "    # Static method for subtraction\n",
    "    @staticmethod\n",
    "    def subtract_numbers(num1, num2):\n",
    "        return num1 - num2\n",
    "\n",
    "\n",
    "# Using the class method to add numbers\n",
    "result_add = MathOperations.add_numbers(10, 5)\n",
    "print(f\"Addition Result: {result_add}\")  \n",
    "\n",
    "# Using the static method to subtract numbers\n",
    "result_subtract = MathOperations.subtract_numbers(10, 5)\n",
    "print(f\"Subtraction Result: {result_subtract}\")  \n"
   ]
  },
  {
   "cell_type": "markdown",
   "id": "f58ff82e-2404-44da-8e3c-410d3abc8f3a",
   "metadata": {},
   "source": [
    "# 8.  Implement a class Person with a class method to count the total number of persons created?"
   ]
  },
  {
   "cell_type": "code",
   "execution_count": 8,
   "id": "ecd46ca5-b0b3-4622-9359-c45ab92d3468",
   "metadata": {},
   "outputs": [
    {
     "name": "stdout",
     "output_type": "stream",
     "text": [
      "Total Persons Created: 3\n"
     ]
    }
   ],
   "source": [
    "# Ans-\n",
    "class Person:\n",
    "    # Class attribute\n",
    "    person_count = 0\n",
    "\n",
    "    def __init__(self, name):\n",
    "        self.name = name\n",
    "        Person.person_count += 1  \n",
    "\n",
    "    @classmethod\n",
    "    def get_person_count(cls):\n",
    "        return f\"Total Persons Created: {cls.person_count}\"\n",
    "\n",
    "\n",
    "# Creating Person objects\n",
    "p1 = Person(\"Alice\")\n",
    "p2 = Person(\"Bob\")\n",
    "p3 = Person(\"Charlie\")\n",
    "\n",
    "# Checking the total number of persons created\n",
    "print(Person.get_person_count()) \n"
   ]
  },
  {
   "cell_type": "markdown",
   "id": "ad14de20-2fae-4cae-96f0-65213d94ea72",
   "metadata": {},
   "source": [
    "# 9. Write a class Fraction with attributes numerator and denominator. Override the str method to display the fraction as \"numerator/denominator\r",
    "r"
   ]
  },
  {
   "cell_type": "code",
   "execution_count": 9,
   "id": "68f87760-8adf-4af7-8c1a-5759be02d541",
   "metadata": {},
   "outputs": [
    {
     "name": "stdout",
     "output_type": "stream",
     "text": [
      "3/4\n",
      "5/8\n"
     ]
    }
   ],
   "source": [
    "# Ans-\n",
    "class Fraction:\n",
    "    def __init__(self, numerator, denominator):\n",
    "        self.numerator = numerator\n",
    "        self.denominator = denominator\n",
    "\n",
    "    def __str__(self): \n",
    "        return f\"{self.numerator}/{self.denominator}\"\n",
    "\n",
    "\n",
    "# Creating Fraction objects\n",
    "fraction1 = Fraction(3, 4)\n",
    "fraction2 = Fraction(5, 8)\n",
    "\n",
    "# Printing Fraction objects\n",
    "print(fraction1) \n",
    "print(fraction2) \n"
   ]
  },
  {
   "cell_type": "markdown",
   "id": "91a9c84c-56e1-4cec-a319-1f6d2efaab8a",
   "metadata": {},
   "source": [
    "# 10.  Demonstrate operator overloading by creating a class Vector and overriding the add method to add two vectors.\r",
    "."
   ]
  },
  {
   "cell_type": "code",
   "execution_count": 10,
   "id": "3e8642a3-e4d3-4e7c-9a00-550e8615d573",
   "metadata": {},
   "outputs": [
    {
     "name": "stdout",
     "output_type": "stream",
     "text": [
      "(6, 8)\n"
     ]
    }
   ],
   "source": [
    "# Ans-\n",
    "class Vector:\n",
    "    def __init__(self, x, y):\n",
    "        self.x = x\n",
    "        self.y = y\n",
    "\n",
    "    def __add__(self, other):  \n",
    "        if isinstance(other, Vector): \n",
    "            return Vector(self.x + other.x, self.y + other.y)\n",
    "        raise TypeError(\"Both operands must be of type 'Vector'.\")\n",
    "\n",
    "    def __str__(self):  \n",
    "        return f\"({self.x}, {self.y})\"\n",
    "\n",
    "\n",
    "# Creating Vector objects\n",
    "v1 = Vector(2, 3)\n",
    "v2 = Vector(4, 5)\n",
    "\n",
    "# Adding two vectors using the overloaded + operator\n",
    "result = v1 + v2\n",
    "\n",
    "# Displaying the result\n",
    "print(result)  \n"
   ]
  },
  {
   "cell_type": "markdown",
   "id": "f52ea1bc-027d-4014-9d44-f360433fe34d",
   "metadata": {},
   "source": [
    "# 11. Create a class Person with attributes name and age. Add a method greet() that prints \"Hello, my name is {name} and I am {age} years old\r",
    "d"
   ]
  },
  {
   "cell_type": "code",
   "execution_count": 12,
   "id": "bae2f6bd-ee22-4563-8382-9a6393d9d46c",
   "metadata": {},
   "outputs": [
    {
     "name": "stdout",
     "output_type": "stream",
     "text": [
      "Hello, my name is Alice and I am 25 years old.\n",
      "Hello, my name is Bob and I am 30 years old.\n"
     ]
    }
   ],
   "source": [
    "# Ans-\n",
    "class Person:\n",
    "    def __init__(self, name, age):\n",
    "        self.name = name\n",
    "        self.age = age\n",
    "\n",
    "    def greet(self): \n",
    "        print(f\"Hello, my name is {self.name} and I am {self.age} years old.\")\n",
    "\n",
    "\n",
    "# Creating Person objects\n",
    "person1 = Person(\"Alice\", 25)\n",
    "person2 = Person(\"Bob\", 30)\n",
    "\n",
    "# Calling the greet() method\n",
    "person1.greet() \n",
    "person2.greet()  \n"
   ]
  },
  {
   "cell_type": "markdown",
   "id": "3e3d944e-0aa7-418f-b18a-3884d998577c",
   "metadata": {},
   "source": [
    "# 12.  Implement a class Student with attributes name and grades. Create a method average_grade() to compute the average of the grades.\r",
    "."
   ]
  },
  {
   "cell_type": "code",
   "execution_count": 13,
   "id": "2da9d1c7-e034-47d0-aa54-ef539bd8c44b",
   "metadata": {},
   "outputs": [
    {
     "name": "stdout",
     "output_type": "stream",
     "text": [
      "Student: Alice, Grades: [85, 90, 78, 92]\n",
      "Student: Bob, Grades: [75, 80, 83]\n",
      "Alice's Average Grade: 86.25\n",
      "Bob's Average Grade: 79.33\n"
     ]
    }
   ],
   "source": [
    "# Ans-\n",
    "class Student:\n",
    "    def __init__(self, name, grades):\n",
    "        self.name = name\n",
    "        self.grades = grades  \n",
    "\n",
    "    def average_grade(self):  \n",
    "        if not self.grades:  \n",
    "            return 0\n",
    "        return sum(self.grades) / len(self.grades)\n",
    "\n",
    "    def __str__(self):  \n",
    "        return f\"Student: {self.name}, Grades: {self.grades}\"\n",
    "\n",
    "\n",
    "# Creating Student objects\n",
    "student1 = Student(\"Alice\", [85, 90, 78, 92])\n",
    "student2 = Student(\"Bob\", [75, 80, 83])\n",
    "\n",
    "# Printing student details\n",
    "print(student1) \n",
    "print(student2) \n",
    "\n",
    "# Calculating and printing average grades\n",
    "print(f\"{student1.name}'s Average Grade: {student1.average_grade():.2f}\")  \n",
    "print(f\"{student2.name}'s Average Grade: {student2.average_grade():.2f}\")  \n"
   ]
  },
  {
   "cell_type": "markdown",
   "id": "f3ae3efe-cf44-41ef-a427-143afbf4dcb1",
   "metadata": {},
   "source": [
    "# 13.  Create a class Rectangle with methods set_dimensions() to set the dimensions and area() to calculate the area.."
   ]
  },
  {
   "cell_type": "code",
   "execution_count": 14,
   "id": "66c007e9-3b69-445c-ad55-7d22b09e835d",
   "metadata": {},
   "outputs": [
    {
     "name": "stdout",
     "output_type": "stream",
     "text": [
      "Rectangle [Length: 5, Width: 3]\n",
      "Area of the rectangle: 15\n"
     ]
    }
   ],
   "source": [
    "# Ans-\n",
    "class Rectangle:\n",
    "    def __init__(self):\n",
    "        self.length = 0\n",
    "        self.width = 0\n",
    "\n",
    "    def set_dimensions(self, length, width):  # Method to set dimensions\n",
    "        self.length = length\n",
    "        self.width = width\n",
    "\n",
    "    def area(self):  \n",
    "        return self.length * self.width\n",
    "\n",
    "    def __str__(self):  \n",
    "        return f\"Rectangle [Length: {self.length}, Width: {self.width}]\"\n",
    "\n",
    "\n",
    "# Creating a Rectangle object\n",
    "rect = Rectangle()\n",
    "\n",
    "# Setting dimensions using set_dimensions() method\n",
    "rect.set_dimensions(5, 3)\n",
    "\n",
    "# Printing the rectangle details\n",
    "print(rect) \n",
    "\n",
    "# Calculating and printing the area\n",
    "print(f\"Area of the rectangle: {rect.area()}\")  \n"
   ]
  },
  {
   "cell_type": "markdown",
   "id": "d6693dfc-5e26-4d86-92f4-e16060fb30ee",
   "metadata": {},
   "source": [
    "# 14. Create a class Employee with a method calculate_salary() that computes the salary based on hours worked and hourly rate. Create a derived class Manager that adds a bonus to the salary\n"
   ]
  },
  {
   "cell_type": "code",
   "execution_count": 15,
   "id": "656112a0-5366-4be7-add0-e7ae0e935aad",
   "metadata": {},
   "outputs": [
    {
     "name": "stdout",
     "output_type": "stream",
     "text": [
      "Employee: Alice, Hours Worked: 40, Hourly Rate: 20\n",
      "Manager: Bob, Hours Worked: 45, Hourly Rate: 30, Bonus: 500\n",
      "Alice's Salary: $800\n",
      "Bob's Salary: $1850\n"
     ]
    }
   ],
   "source": [
    "# Ans-\n",
    "class Employee:\n",
    "    def __init__(self, name, hours_worked, hourly_rate):\n",
    "        self.name = name\n",
    "        self.hours_worked = hours_worked\n",
    "        self.hourly_rate = hourly_rate\n",
    "\n",
    "    def calculate_salary(self): \n",
    "        return self.hours_worked * self.hourly_rate\n",
    "\n",
    "    def __str__(self):\n",
    "        return f\"Employee: {self.name}, Hours Worked: {self.hours_worked}, Hourly Rate: {self.hourly_rate}\"\n",
    "\n",
    "\n",
    "class Manager(Employee):  \n",
    "    def __init__(self, name, hours_worked, hourly_rate, bonus):\n",
    "        super().__init__(name, hours_worked, hourly_rate)  \n",
    "        self.bonus = bonus\n",
    "\n",
    "    def calculate_salary(self):  \n",
    "        base_salary = super().calculate_salary()  \n",
    "        return base_salary + self.bonus\n",
    "\n",
    "    def __str__(self):\n",
    "        return f\"Manager: {self.name}, Hours Worked: {self.hours_worked}, Hourly Rate: {self.hourly_rate}, Bonus: {self.bonus}\"\n",
    "\n",
    "\n",
    "# Creating Employee and Manager objects\n",
    "emp = Employee(\"Alice\", 40, 20)\n",
    "mgr = Manager(\"Bob\", 45, 30, 500)\n",
    "\n",
    "# Printing employee and manager details\n",
    "print(emp)  \n",
    "print(mgr) \n",
    "\n",
    "# Calculating and displaying salaries\n",
    "print(f\"{emp.name}'s Salary: ${emp.calculate_salary()}\") \n",
    "print(f\"{mgr.name}'s Salary: ${mgr.calculate_salary()}\")  \n"
   ]
  },
  {
   "cell_type": "markdown",
   "id": "86015178-e611-4c28-911a-4e87b54fe555",
   "metadata": {},
   "source": [
    "# 15.  Create a class Product with attributes name, price, and quantity. Implement a method total_price() that calculates the total price of the productt"
   ]
  },
  {
   "cell_type": "code",
   "execution_count": 16,
   "id": "5923e5e0-922c-430f-b515-b7226c2d9dfb",
   "metadata": {},
   "outputs": [
    {
     "name": "stdout",
     "output_type": "stream",
     "text": [
      "Product: Laptop, Price: $1200, Quantity: 2\n",
      "Product: Phone, Price: $800, Quantity: 3\n",
      "Total Price of Laptop: $2400\n",
      "Total Price of Phone: $2400\n"
     ]
    }
   ],
   "source": [
    "# Ans-\n",
    "class Product:\n",
    "    def __init__(self, name, price, quantity):\n",
    "        self.name = name\n",
    "        self.price = price\n",
    "        self.quantity = quantity\n",
    "\n",
    "    def total_price(self): \n",
    "        return self.price * self.quantity\n",
    "\n",
    "    def __str__(self):  \n",
    "        return f\"Product: {self.name}, Price: ${self.price}, Quantity: {self.quantity}\"\n",
    "\n",
    "\n",
    "# Creating Product objects\n",
    "product1 = Product(\"Laptop\", 1200, 2)\n",
    "product2 = Product(\"Phone\", 800, 3)\n",
    "\n",
    "# Printing product details\n",
    "print(product1)  \n",
    "print(product2) \n",
    "\n",
    "# Calculating and printing total prices\n",
    "print(f\"Total Price of {product1.name}: ${product1.total_price()}\")  \n",
    "print(f\"Total Price of {product2.name}: ${product2.total_price()}\") \n"
   ]
  },
  {
   "cell_type": "markdown",
   "id": "5c93c57c-51f6-4f24-817e-559abb62d0e1",
   "metadata": {},
   "source": [
    "# 16. Create a class Animal with an abstract method sound(). Create two derived classes Cow and Sheep that implement the sound() method.."
   ]
  },
  {
   "cell_type": "code",
   "execution_count": 18,
   "id": "49c94079-f3f1-445c-8e11-b192995aa6cc",
   "metadata": {},
   "outputs": [
    {
     "name": "stdout",
     "output_type": "stream",
     "text": [
      "Cow Sound: Moo!\n",
      "Sheep Sound: Baa!\n"
     ]
    }
   ],
   "source": [
    "# Ans-\n",
    "from abc import ABC, abstractmethod\n",
    "\n",
    "class Animal(ABC):  \n",
    "    @abstractmethod\n",
    "    def sound(self):  \n",
    "        pass\n",
    "\n",
    "\n",
    "class Cow(Animal): \n",
    "    def sound(self):  \n",
    "        return \"Moo!\"\n",
    "\n",
    "\n",
    "class Sheep(Animal): \n",
    "    def sound(self):  \n",
    "        return \"Baa!\"\n",
    "\n",
    "\n",
    "# Creating objects of the derived classes\n",
    "cow = Cow()\n",
    "\n",
    "# Calling the sound() method for each object\n",
    "print(f\"Cow Sound: {cow.sound()}\")      \n",
    "print(f\"Sheep Sound: {sheep.sound()}\")   \n"
   ]
  },
  {
   "cell_type": "markdown",
   "id": "f0ebb6c1-3e7a-4604-bf52-cfea7d3aca20",
   "metadata": {},
   "source": [
    "# 17 . Create a class Book with attributes title, author, and year_published. Add a method get_book_info() that returns a formatted string with the book's details..\r\n",
    "\r\n",
    "\r"
   ]
  },
  {
   "cell_type": "code",
   "execution_count": 19,
   "id": "e990434b-2171-4c8a-be7c-4878b42af44e",
   "metadata": {},
   "outputs": [
    {
     "name": "stdout",
     "output_type": "stream",
     "text": [
      "'To Kill a Mockingbird' by Harper Lee (Published in 1960)\n",
      "'1984' by George Orwell (Published in 1949)\n"
     ]
    }
   ],
   "source": [
    "# Ans-\n",
    "class Book:\n",
    "    def __init__(self, title, author, year_published):\n",
    "        self.title = title\n",
    "        self.author = author\n",
    "        self.year_published = year_published\n",
    "\n",
    "    def get_book_info(self):  \n",
    "        return f\"'{self.title}' by {self.author} (Published in {self.year_published})\"\n",
    "\n",
    "    def __str__(self): \n",
    "        return self.get_book_info()\n",
    "\n",
    "\n",
    "# Creating Book objects\n",
    "book1 = Book(\"To Kill a Mockingbird\", \"Harper Lee\", 1960)\n",
    "book2 = Book(\"1984\", \"George Orwell\", 1949)\n",
    "\n",
    "# Printing book details using get_book_info() method\n",
    "print(book1.get_book_info())  \n",
    "print(book2.get_book_info())  "
   ]
  },
  {
   "cell_type": "markdown",
   "id": "1d3d26ca-94ca-4631-96c5-0430bd80d997",
   "metadata": {},
   "source": [
    "# 18.  Create a class House with attributes address and price. Create a derived class Mansion that adds an attribute number_of_rooms."
   ]
  },
  {
   "cell_type": "code",
   "execution_count": 20,
   "id": "1521bd2a-bbb8-46d8-a93d-8d7d3d36eb90",
   "metadata": {},
   "outputs": [
    {
     "ename": "IndentationError",
     "evalue": "unexpected indent (3531595363.py, line 8)",
     "output_type": "error",
     "traceback": [
      "\u001b[1;36m  Cell \u001b[1;32mIn[20], line 8\u001b[1;36m\u001b[0m\n\u001b[1;33m    return f\"Address: {self.address}, Price: ${self.price}\"\u001b[0m\n\u001b[1;37m    ^\u001b[0m\n\u001b[1;31mIndentationError\u001b[0m\u001b[1;31m:\u001b[0m unexpected indent\n"
     ]
    }
   ],
   "source": [
    "# Ans \n",
    "class House:\n",
    "    def __init__(self, address, price):\n",
    "        self.address = address\n",
    "        self.price = price\n",
    "\n",
    "    def get_details(self):  tails\n",
    "        return f\"Address: {self.address}, Price: ${self.price}\"\n",
    "\n",
    "    def __str__(self):  \n",
    "        return self.get_details()\n",
    "\n",
    "\n",
    "class Mansion(House):  \n",
    "    def __init__(self, address, price, number_of_rooms):\n",
    "        super().__init__(address, price) \n",
    "        self.number_of_rooms = number_of_rooms\n",
    "\n",
    "    def get_details(self): \n",
    "        return f\"{super().get_details()}, Number of Rooms: {self.number_of_rooms}\"\n",
    "\n",
    "\n",
    "# Creating objects of House and Mansion\n",
    "house = House(\"123 Main St\", 300000)\n",
    "mansion = Mansion(\"456 Elite Rd\", 2000000, 10)\n",
    "\n",
    "# Printing details of each property\n",
    "print(house)   \n",
    "print(mansion)  \n"
   ]
  },
  {
   "cell_type": "code",
   "execution_count": null,
   "id": "acce25d9-c81d-4007-9af9-025e84be30bf",
   "metadata": {},
   "outputs": [],
   "source": []
  }
 ],
 "metadata": {
  "kernelspec": {
   "display_name": "Python 3 (ipykernel)",
   "language": "python",
   "name": "python3"
  },
  "language_info": {
   "codemirror_mode": {
    "name": "ipython",
    "version": 3
   },
   "file_extension": ".py",
   "mimetype": "text/x-python",
   "name": "python",
   "nbconvert_exporter": "python",
   "pygments_lexer": "ipython3",
   "version": "3.11.7"
  }
 },
 "nbformat": 4,
 "nbformat_minor": 5
}
